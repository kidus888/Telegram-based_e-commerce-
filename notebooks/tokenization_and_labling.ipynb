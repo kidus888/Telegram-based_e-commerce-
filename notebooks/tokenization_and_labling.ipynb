{
 "cells": [
  {
   "cell_type": "code",
   "execution_count": 6,
   "metadata": {},
   "outputs": [
    {
     "name": "stdout",
     "output_type": "stream",
     "text": [
      "Labeled data saved in CoNLL format.\n"
     ]
    }
   ],
   "source": [
    "import pandas as pd\n",
    "import regex as re\n",
    "\n",
    "# Load your actual dataset \n",
    "df = pd.read_csv('clean_data.csv')\n",
    "\n",
    "# Extract the 'Message' column\n",
    "messages = df['Message'].dropna().tolist()  # Dropping NaN values in the 'Message' column if any\n",
    "\n",
    "# Manually define some product and location keywords for labeling\n",
    "product_keywords = [\"መነሻዬ\", \"በቀለማት\", \"ያሸበረቁ\", \"የእንጨት\", \"ብሎኮች\", \"ታብሌት\", \"ለልጆች\", \"የሚሆኑ\", \"ብረትን\", \"እንደ\", \"ወረቀት\", \"እያጣጠፉ\", \"ውብ\", \"ዲዛይኖችን\" ,\"የሚሰሩባቸው\" \"ትምህርታዊ\", \"መጫዎቻዎችን\" , \"የሪሞት\", \"ኮንትሮል\", \"መኪኖች\", \"ሩቢክስ\", \"ኪዩብን\"]\n",
    "location_keywords = [\"አዲስ\", \"አበባ\", \"ቦሌ\", \"ጉርድ\", \"ሾላ\", \"ሆሊ\", \"ሲቲ\" \"ሴንተር\", \"ፒያሳ\", \"ካንትሪ\", \"ታወር\", \"ጀሞ\", \"ደሊና\", \"ህንፃ\", \"ርጂ\", \"መብራት\", \"ሃይል\"]\n",
    "price_keywords = [\"ዋጋ\", \"ብር\", \"1000\"]\n",
    "\n",
    "\n",
    "# Custom function to tokenize Amharic text using regex\n",
    "def amharic_tokenizer(text):\n",
    "    # Tokenize based on Ethiopic script, numbers, and punctuation\n",
    "    tokens = re.findall(r'\\p{Ethiopic}+|\\d+|[^\\w\\s]', text)\n",
    "    return tokens\n",
    "\n",
    "# Labeling function for tokens\n",
    "def label_tokens(tokens):\n",
    "    labels = []\n",
    "    for i, token in enumerate(tokens):\n",
    "        if token in product_keywords:\n",
    "            if i == 0 or tokens[i-1] not in product_keywords:\n",
    "                labels.append(f\"{token} B-Product\")\n",
    "            else:\n",
    "                labels.append(f\"{token} I-Product\")\n",
    "        elif token in location_keywords:\n",
    "            if i == 0 or tokens[i-1] not in location_keywords:\n",
    "                labels.append(f\"{token} B-LOC\")\n",
    "            else:\n",
    "                labels.append(f\"{token} I-LOC\")\n",
    "        elif token in price_keywords:\n",
    "            if i == 0 or tokens[i-1] not in price_keywords:\n",
    "                labels.append(f\"{token} B-PRICE\")\n",
    "            else:\n",
    "                labels.append(f\"{token} I-PRICE\")\n",
    "        else:\n",
    "            labels.append(f\"{token} O\")\n",
    "    return labels\n",
    "\n",
    "# Process messages\n",
    "def process_messages(messages):\n",
    "    conll_output = []\n",
    "    for message in messages:\n",
    "        tokens = amharic_tokenizer(message)\n",
    "        labeled_tokens = label_tokens(tokens)\n",
    "        conll_output.append(\"\\n\".join(labeled_tokens))\n",
    "        conll_output.append(\"\")  # Empty line to separate messages\n",
    "    return \"\\n\".join(conll_output)\n",
    "\n",
    "# Generate the CoNLL formatted output\n",
    "conll_data = process_messages(messages)\n",
    "\n",
    "# Save the output to a text file\n",
    "with open(\"labeled_data.conll\", \"w\", encoding=\"utf-8\") as f:\n",
    "    f.write(conll_data)\n",
    "\n",
    "print(\"Labeled data saved in CoNLL format.\")\n"
   ]
  }
 ],
 "metadata": {
  "kernelspec": {
   "display_name": ".venv",
   "language": "python",
   "name": "python3"
  },
  "language_info": {
   "codemirror_mode": {
    "name": "ipython",
    "version": 3
   },
   "file_extension": ".py",
   "mimetype": "text/x-python",
   "name": "python",
   "nbconvert_exporter": "python",
   "pygments_lexer": "ipython3",
   "version": "3.11.9"
  }
 },
 "nbformat": 4,
 "nbformat_minor": 2
}
